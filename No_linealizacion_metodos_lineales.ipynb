{
  "nbformat": 4,
  "nbformat_minor": 0,
  "metadata": {
    "colab": {
      "name": "No linealizacion metodos lineales.ipynb",
      "provenance": [],
      "authorship_tag": "ABX9TyPLgzTlpz1rbzq7Fciyq+pP",
      "include_colab_link": true
    },
    "kernelspec": {
      "name": "python3",
      "display_name": "Python 3"
    }
  },
  "cells": [
    {
      "cell_type": "markdown",
      "metadata": {
        "id": "view-in-github",
        "colab_type": "text"
      },
      "source": [
        "<a href=\"https://colab.research.google.com/github/juancas9812/Inteligencia-Artificial-2020-3/blob/master/No_linealizacion_metodos_lineales.ipynb\" target=\"_parent\"><img src=\"https://colab.research.google.com/assets/colab-badge.svg\" alt=\"Open In Colab\"/></a>"
      ]
    },
    {
      "cell_type": "markdown",
      "metadata": {
        "id": "jYMoHt6n1DJD"
      },
      "source": [
        "# Pontificia Universidad Javeriana\n",
        "#Inteligencia Artificial 2020-30\n",
        "\n",
        "Tarea: No Linealización de métodos lineales\n",
        "\n",
        "Juan Camilo Sarmiento Peñuela\n"
      ]
    },
    {
      "cell_type": "markdown",
      "metadata": {
        "id": "TskJjGsP1-cv"
      },
      "source": [
        "Enunciado:\n",
        "\n",
        "A partir del ejemplo visto en clase para regresión logística:\n",
        "\n",
        "Use una combinación no lineal de las entradas X1 y X2, para subir la dimensionalidad del vector de catacterísticas, de tal manera que le permita discriminar usando un clasificador lineal por  regresión logística, sobre un dataset no separable linealmente.\n",
        "\n",
        "Ayuda: use la función descrita en  https://scikit-learn.org/stable/modules/generated/sklearn.datasets.make_circles.html\n",
        "\n",
        "Para crear dos grupos con sus etiquetas que no sean separables linealmente.\n",
        "\n",
        "Use varias combinaciones para realizar este procedimiento de extención de las características de entrada.\n",
        "\n",
        "Responda en sus conclusiones:\n",
        "\n",
        "que pasa si extiende X usando solo operaciones de suma o escalización de X1 y X2?\n",
        "\n",
        "cuales operaciones de extención de la dimensionalidad funcionan meor según su opinión?"
      ]
    },
    {
      "cell_type": "code",
      "metadata": {
        "id": "fqMgVSdr0G0r"
      },
      "source": [
        "import numpy as np\n",
        "import pandas as pd\n",
        "import matplotlib.pyplot as plt\n",
        "from matplotlib.colors import ListedColormap\n",
        "import matplotlib.patches as mpatches\n",
        "import seaborn as sb\n",
        "\n",
        "from scipy.spatial import distance# por favor buscar la documentacion oficial de la función https://docs.scipy.org/doc/scipy/reference/spatial.distance.html#module-scipy.spatial.distance\n",
        "from sklearn.preprocessing import StandardScaler# por favor buscar la documentacion oficial de la función\n",
        "#https://scikit-learn.org/stable/modules/preprocessing.html\n",
        "%matplotlib inline\n",
        "#https://stackoverflow.com/questions/43027980/purpose-of-matplotlib-inline\n",
        "from sklearn.datasets import make_blobs\n",
        "#https://scikit-learn.org/stable/modules/generated/sklearn.datasets.make_circles.html\n",
        "from sklearn.datasets import make_circles\n",
        "\n",
        "# https://scikit-learn.org/stable/modules/generated/sklearn.datasets.make_blobs.html\n",
        "from sklearn.preprocessing import StandardScaler\n",
        "from sklearn.model_selection import train_test_split\n",
        "\n",
        "from sklearn.linear_model import LogisticRegression\n",
        "#https://scikit-learn.org/stable/modules/generated/sklearn.linear_model.LogisticRegression.html"
      ],
      "execution_count": null,
      "outputs": []
    },
    {
      "cell_type": "code",
      "metadata": {
        "id": "cEv9-nRd1FtL"
      },
      "source": [
        "Xtotal, ytotal = make_blobs(n_samples = 1500, centers = 2, n_features=2, shuffle=True, random_state=4)#4 y 30 da un buen cluster para probar\n",
        "#Xtotal, ytotal = make_circles(n_samples=1500, shuffle=True, noise=0.1, random_state=4, factor=0.4)\n",
        "\n",
        "plt.figure()\n",
        "plt.scatter(Xtotal[:,0],Xtotal[:,1],c=ytotal,alpha=0.2)#ver: https://matplotlib.org/3.3.1/api/_as_gen/matplotlib.pyplot.scatter.html\n",
        "plt.show()\n",
        "X_train, X_test, y_train, y_test = train_test_split(Xtotal, ytotal, random_state=0)\n",
        "scaler = StandardScaler()# Ejercicio, no use la escalización de los datos a ver que tal funciona!\n",
        "scaler.fit(X_train)# el fit de los datos solo se hace con el conjunto de entrenamiento!\n",
        "X_train = scaler.transform(X_train)\n",
        "X_test = scaler.transform(X_test)"
      ],
      "execution_count": null,
      "outputs": []
    },
    {
      "cell_type": "code",
      "metadata": {
        "id": "XF3m21bE1JI1"
      },
      "source": [
        "# ver https://scikit-learn.org/stable/modules/linear_model.html#logistic-regression\n",
        "\n",
        "LR = LogisticRegression(penalty='l2', C=0.01,random_state=0)\n",
        "#https://scikit-learn.org/stable/modules/generated/sklearn.svm.SVC.html#sklearn.svm.SVC\n",
        "\n",
        "LR.fit(X_train, y_train)"
      ],
      "execution_count": null,
      "outputs": []
    },
    {
      "cell_type": "code",
      "metadata": {
        "id": "XidhWsav1PJN"
      },
      "source": [
        "X=X_train\n",
        "y=y_train\n",
        "\n",
        "h = .02  # step size in the mesh\n",
        "# Create color maps\n",
        "cmap_light = ListedColormap(['#FFAAAA', '#b3ffff'])#['#FFAAAA', '#ffcc99', '#ffffb3','#b3ffff','#c2f0c2']\n",
        "cmap_bold = ListedColormap(['#FF0000', '#00ffff'])#['#FF0000', '#ff9933','#FFFF00','#00ffff','#00FF00']\n",
        " \n",
        "# Plot the decision boundary. For that, we will assign a color to each\n",
        "# point in the mesh [x_min, x_max]x[y_min, y_max].\n",
        "x_min, x_max = X[:, 0].min() - 1, X[:, 0].max() + 1\n",
        "y_min, y_max = X[:, 1].min() - 1, X[:, 1].max() + 1\n",
        "xx, yy = np.meshgrid(np.arange(x_min, x_max, h),\n",
        "                         np.arange(y_min, y_max, h))\n",
        "Z = LR.predict(np.c_[xx.ravel(), yy.ravel()])\n",
        " \n",
        "# Put the result into a color plot\n",
        "Z = Z.reshape(xx.shape)\n",
        "plt.figure()\n",
        "plt.pcolormesh(xx, yy, Z, cmap=cmap_light)\n",
        " \n",
        "# Plot also the training points\n",
        "plt.scatter(X[:, 0], X[:, 1], c=y, cmap=cmap_bold,\n",
        "                edgecolor='k', s=20)\n",
        "plt.xlim(xx.min(), xx.max())\n",
        "plt.ylim(yy.min(), yy.max())\n",
        "    \n",
        "patch0 = mpatches.Patch(color='#FF0000', label='0')\n",
        "patch1 = mpatches.Patch(color='#00ffff', label='1')\n",
        "plt.legend(handles=[patch0, patch1])\n",
        " \n",
        "    \n",
        "plt.title(\"Resultado regresión logistica training %s\")\n",
        " \n",
        "plt.show()"
      ],
      "execution_count": null,
      "outputs": []
    },
    {
      "cell_type": "code",
      "metadata": {
        "id": "MXoLjd4H1QB9"
      },
      "source": [
        "X=X_test\n",
        "y=y_test\n",
        "\n",
        "h = .02  # step size in the mesh\n",
        "# Create color maps\n",
        "cmap_light = ListedColormap(['#FFAAAA', '#b3ffff'])#['#FFAAAA', '#ffcc99', '#ffffb3','#b3ffff','#c2f0c2']\n",
        "cmap_bold = ListedColormap(['#FF0000', '#00ffff'])#['#FF0000', '#ff9933','#FFFF00','#00ffff','#00FF00']\n",
        " \n",
        "# Plot the decision boundary. For that, we will assign a color to each\n",
        "# point in the mesh [x_min, x_max]x[y_min, y_max].\n",
        "x_min, x_max = X[:, 0].min() - 1, X[:, 0].max() + 1\n",
        "y_min, y_max = X[:, 1].min() - 1, X[:, 1].max() + 1\n",
        "xx, yy = np.meshgrid(np.arange(x_min, x_max, h),\n",
        "                         np.arange(y_min, y_max, h))\n",
        "Z = LR.predict(np.c_[xx.ravel(), yy.ravel()])\n",
        " \n",
        "# Put the result into a color plot\n",
        "Z = Z.reshape(xx.shape)\n",
        "plt.figure()\n",
        "plt.pcolormesh(xx, yy, Z, cmap=cmap_light)\n",
        " \n",
        "# Plot also the training points\n",
        "plt.scatter(X[:, 0], X[:, 1], c=y, cmap=cmap_bold,\n",
        "                edgecolor='k', s=20)\n",
        "plt.xlim(xx.min(), xx.max())\n",
        "plt.ylim(yy.min(), yy.max())\n",
        "    \n",
        "patch0 = mpatches.Patch(color='#FF0000', label='0')\n",
        "patch1 = mpatches.Patch(color='#00ffff', label='1')\n",
        "plt.legend(handles=[patch0, patch1])\n",
        " \n",
        "    \n",
        "plt.title(\"Resultado regresión logistica testing %s\")\n",
        " \n",
        "plt.show()\n",
        "from sklearn.metrics import matthews_corrcoef\n",
        "from sklearn.metrics import accuracy_score\n",
        "from sklearn.metrics import roc_curve,roc_auc_score\n",
        "\n",
        "y_test_predicted = LR.predict(X_test)\n",
        "y_test_scores = LR.predict_proba(X_test)\n",
        "MCC = matthews_corrcoef(y_test, y_test_predicted)\n",
        "print(\"matthews_corrcoef\", MCC)\n",
        "ACC = accuracy_score(y_test, y_test_predicted)\n",
        "print(\"Accuracy\", ACC)\n",
        "\"\"\"\n",
        "print(y_test_scores[:,1])\n",
        "print(y_test_predicted)\n",
        "\"\"\"\n",
        "fpr,tpr,thresholds = roc_curve(y_test, y_test_scores[:,1])\n",
        "roc_auc=roc_auc_score(y_test, y_test_scores[:,1])\n",
        "plt.figure()\n",
        "lw = 2\n",
        "plt.plot(fpr, tpr, color='darkorange',lw=lw, label='ROC curve (area = %0.2f)' % roc_auc)\n",
        "plt.plot([0, 1], [0, 1], color='navy', lw=lw, linestyle='--')\n",
        "plt.xlim([0.0, 1.0])\n",
        "plt.ylim([0.0, 1.05])\n",
        "plt.xlabel('False Positive Rate')\n",
        "plt.ylabel('True Positive Rate')\n",
        "plt.title('Receiver operating characteristic. ROC')\n",
        "plt.legend(loc=\"lower right\")\n",
        "plt.show()"
      ],
      "execution_count": null,
      "outputs": []
    }
  ]
}