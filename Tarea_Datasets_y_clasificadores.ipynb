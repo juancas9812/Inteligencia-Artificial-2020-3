{
  "nbformat": 4,
  "nbformat_minor": 0,
  "metadata": {
    "colab": {
      "name": "Tarea Datasets y clasificadores.ipynb",
      "provenance": [],
      "toc_visible": true,
      "authorship_tag": "ABX9TyP7nalqiF7dIhMsmkaiXl/7",
      "include_colab_link": true
    },
    "kernelspec": {
      "name": "python3",
      "display_name": "Python 3"
    }
  },
  "cells": [
    {
      "cell_type": "markdown",
      "metadata": {
        "id": "view-in-github",
        "colab_type": "text"
      },
      "source": [
        "<a href=\"https://colab.research.google.com/github/juancas9812/Inteligencia-Artificial-2020-3/blob/master/Tarea_Datasets_y_clasificadores.ipynb\" target=\"_parent\"><img src=\"https://colab.research.google.com/assets/colab-badge.svg\" alt=\"Open In Colab\"/></a>"
      ]
    },
    {
      "cell_type": "markdown",
      "metadata": {
        "id": "Bpatniq9p5mW"
      },
      "source": [
        "# Pontificia Universidad Javeriana\n",
        "# Inteligencia Artificial 2020-30\n",
        "Tarea Semana 5\n",
        "\n",
        "Juan Camilo Sarmiento Peñuela\n"
      ]
    },
    {
      "cell_type": "markdown",
      "metadata": {
        "id": "poBEXRCfqE26"
      },
      "source": [
        "Enunciado:\n",
        "\n",
        "Usando uno de los dos datasets:\n",
        "\n",
        "https://www.kaggle.com/c/titanic\n",
        "\n",
        "https://www.kaggle.com/renanmav/which-team-will-win-this-dota-2-match\n",
        "\n",
        "Implemente el que usted considere sea el mejor clasificador conveniente a partir de los vistos en clase. (LR, SVM todas sus versiones, KNN en todas sus versiones) \n",
        "\n",
        "\n",
        "La entrega DEBE tener conclusiones que expliquen paso a paso su procedimiento.\n",
        "\n",
        "1. Como pre procesa los datos,\n",
        "\n",
        "2. Como segmenta los datos y etiquetas en validacion y entrenamiento,\n",
        "\n",
        "3. Como selecciona los hiperparámetros del método.\n",
        "\n",
        "4. Como evalua su método definitivo a partir de una de las métricas vistas en clase de desempeño (ACC, F1, MCC), y por que selecciona esta por sobre las otras.\n",
        "\n",
        "Use el conjunto de training suministrado para validar también, si usted somete su clasificador a kaggle como parte del concurso (usando el conjunto de validación suministrado por la página), se asignarán créditos extra, haga una captura de pantalla con los resultados de su sometimiento."
      ]
    },
    {
      "cell_type": "markdown",
      "metadata": {
        "id": "d2XANMxgqQOT"
      },
      "source": [
        "# Pre procesamiento de los datos"
      ]
    },
    {
      "cell_type": "markdown",
      "metadata": {
        "id": "ZXrMd2TnqaZy"
      },
      "source": [
        "Se escoge el dataset de Titanic, el cual contiene 2 archivos .csv, uno para entrenamiento y otro para hacer test. Este último no tiene la etiqueta de \"survival\", ya que según se describe en Kaggle, se utiliza para evaluar nuevos datos en el clasificador.\n"
      ]
    },
    {
      "cell_type": "code",
      "metadata": {
        "id": "cBOpTvB0qEfK"
      },
      "source": [
        ""
      ],
      "execution_count": null,
      "outputs": []
    },
    {
      "cell_type": "code",
      "metadata": {
        "id": "dT8HdUeiqWGC"
      },
      "source": [
        ""
      ],
      "execution_count": null,
      "outputs": []
    }
  ]
}