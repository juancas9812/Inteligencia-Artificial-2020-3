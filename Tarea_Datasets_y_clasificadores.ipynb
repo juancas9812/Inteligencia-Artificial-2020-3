{
  "nbformat": 4,
  "nbformat_minor": 0,
  "metadata": {
    "colab": {
      "name": "Tarea Datasets y clasificadores.ipynb",
      "provenance": [],
      "authorship_tag": "ABX9TyN9PKfBs5eczRiZmpBvLMXk",
      "include_colab_link": true
    },
    "kernelspec": {
      "name": "python3",
      "display_name": "Python 3"
    }
  },
  "cells": [
    {
      "cell_type": "markdown",
      "metadata": {
        "id": "view-in-github",
        "colab_type": "text"
      },
      "source": [
        "<a href=\"https://colab.research.google.com/github/juancas9812/Inteligencia-Artificial-2020-3/blob/master/Tarea_Datasets_y_clasificadores.ipynb\" target=\"_parent\"><img src=\"https://colab.research.google.com/assets/colab-badge.svg\" alt=\"Open In Colab\"/></a>"
      ]
    },
    {
      "cell_type": "markdown",
      "metadata": {
        "id": "Bpatniq9p5mW"
      },
      "source": [
        "# Pontificia Universidad Javeriana\n",
        "# Inteligencia Artificial 2020-30\n",
        "Tarea Uso de datasets y Selección de metodo de clasficación\n",
        "\n",
        "Juan Camilo Sarmiento Peñuela\n"
      ]
    },
    {
      "cell_type": "markdown",
      "metadata": {
        "id": "poBEXRCfqE26"
      },
      "source": [
        "Enunciado:\n",
        "\n",
        "Usando uno de los dos datasets:\n",
        "\n",
        "https://www.kaggle.com/c/titanic\n",
        "\n",
        "https://www.kaggle.com/renanmav/which-team-will-win-this-dota-2-match\n",
        "\n",
        "Implemente el que usted considere sea el mejor clasificador conveniente a partir de los vistos en clase. (LR, SVM todas sus versiones, KNN en todas sus versiones) \n",
        "\n",
        "\n",
        "La entrega DEBE tener conclusiones que expliquen paso a paso su procedimiento.\n",
        "\n",
        "1. Como pre procesa los datos,\n",
        "\n",
        "2. Como segmenta los datos y etiquetas en validacion y entrenamiento,\n",
        "\n",
        "3. Como selecciona los hiperparámetros del método.\n",
        "\n",
        "4. Como evalua su método definitivo a partir de una de las métricas vistas en clase de desempeño (ACC, F1, MCC), y por que selecciona esta por sobre las otras.\n",
        "\n",
        "Use el conjunto de training suministrado para validar también, si usted somete su clasificador a kaggle como parte del concurso (usando el conjunto de validación suministrado por la página), se asignarán créditos extra, haga una captura de pantalla con los resultados de su sometimiento."
      ]
    },
    {
      "cell_type": "markdown",
      "metadata": {
        "id": "d2XANMxgqQOT"
      },
      "source": [
        "# Pre procesamiento de los datos"
      ]
    },
    {
      "cell_type": "markdown",
      "metadata": {
        "id": "ZXrMd2TnqaZy"
      },
      "source": [
        "El primer paso para realizar el modelo es conocer el dataset y analizar cómo son sus datos para poder después construir el modelo para el clasificador.\n",
        "\n",
        "Se escoge el dataset de Titanic, el cual contiene 2 archivos .csv, uno para entrenamiento y otro para hacer test. Este último no tiene la etiqueta de \"survival\", ya que según se describe en Kaggle, se utiliza para evaluar nuevos datos en el clasificador.\n",
        "\n",
        "Para importar los datos y visualizarlos para poder procesarlos se importa la libreria pandas y algunos de sus módulos, al igual que algunas librerías para visualizar y presentar los datos como matplotlib y seaborn:\n"
      ]
    },
    {
      "cell_type": "code",
      "metadata": {
        "id": "cBOpTvB0qEfK"
      },
      "source": [
        "import pandas as pd\n",
        "from pandas import Series,DataFrame\n",
        "import numpy as np\n",
        "import matplotlib.pyplot as plt\n",
        "import seaborn as sns\n",
        "sns.set_style('whitegrid')"
      ],
      "execution_count": null,
      "outputs": []
    },
    {
      "cell_type": "markdown",
      "metadata": {
        "id": "kjaqONYX39QP"
      },
      "source": [
        "Ya que se importó pandas, se puede importar/leer los datos:"
      ]
    },
    {
      "cell_type": "code",
      "metadata": {
        "id": "dT8HdUeiqWGC",
        "outputId": "58502644-2b68-42c7-8ad5-bf3438feac87",
        "colab": {
          "base_uri": "https://localhost:8080/",
          "height": 459
        }
      },
      "source": [
        "titanic_train = pd.read_csv(\"train.csv\") #Carga el archivo de entrenamiento\n",
        "titanic_test  = pd.read_csv(\"test.csv\") #Carga el archivo de evaluación\n",
        "\n",
        "titanic_train.head()  #Se visualiza la cabeza de la tabla"
      ],
      "execution_count": null,
      "outputs": [
        {
          "output_type": "execute_result",
          "data": {
            "text/html": [
              "<div>\n",
              "<style scoped>\n",
              "    .dataframe tbody tr th:only-of-type {\n",
              "        vertical-align: middle;\n",
              "    }\n",
              "\n",
              "    .dataframe tbody tr th {\n",
              "        vertical-align: top;\n",
              "    }\n",
              "\n",
              "    .dataframe thead th {\n",
              "        text-align: right;\n",
              "    }\n",
              "</style>\n",
              "<table border=\"1\" class=\"dataframe\">\n",
              "  <thead>\n",
              "    <tr style=\"text-align: right;\">\n",
              "      <th></th>\n",
              "      <th>PassengerId</th>\n",
              "      <th>Survived</th>\n",
              "      <th>Pclass</th>\n",
              "      <th>Name</th>\n",
              "      <th>Sex</th>\n",
              "      <th>Age</th>\n",
              "      <th>SibSp</th>\n",
              "      <th>Parch</th>\n",
              "      <th>Ticket</th>\n",
              "      <th>Fare</th>\n",
              "      <th>Cabin</th>\n",
              "      <th>Embarked</th>\n",
              "    </tr>\n",
              "  </thead>\n",
              "  <tbody>\n",
              "    <tr>\n",
              "      <th>0</th>\n",
              "      <td>1</td>\n",
              "      <td>0</td>\n",
              "      <td>3</td>\n",
              "      <td>Braund, Mr. Owen Harris</td>\n",
              "      <td>male</td>\n",
              "      <td>22.0</td>\n",
              "      <td>1</td>\n",
              "      <td>0</td>\n",
              "      <td>A/5 21171</td>\n",
              "      <td>7.2500</td>\n",
              "      <td>NaN</td>\n",
              "      <td>S</td>\n",
              "    </tr>\n",
              "    <tr>\n",
              "      <th>1</th>\n",
              "      <td>2</td>\n",
              "      <td>1</td>\n",
              "      <td>1</td>\n",
              "      <td>Cumings, Mrs. John Bradley (Florence Briggs Th...</td>\n",
              "      <td>female</td>\n",
              "      <td>38.0</td>\n",
              "      <td>1</td>\n",
              "      <td>0</td>\n",
              "      <td>PC 17599</td>\n",
              "      <td>71.2833</td>\n",
              "      <td>C85</td>\n",
              "      <td>C</td>\n",
              "    </tr>\n",
              "    <tr>\n",
              "      <th>2</th>\n",
              "      <td>3</td>\n",
              "      <td>1</td>\n",
              "      <td>3</td>\n",
              "      <td>Heikkinen, Miss. Laina</td>\n",
              "      <td>female</td>\n",
              "      <td>26.0</td>\n",
              "      <td>0</td>\n",
              "      <td>0</td>\n",
              "      <td>STON/O2. 3101282</td>\n",
              "      <td>7.9250</td>\n",
              "      <td>NaN</td>\n",
              "      <td>S</td>\n",
              "    </tr>\n",
              "    <tr>\n",
              "      <th>3</th>\n",
              "      <td>4</td>\n",
              "      <td>1</td>\n",
              "      <td>1</td>\n",
              "      <td>Futrelle, Mrs. Jacques Heath (Lily May Peel)</td>\n",
              "      <td>female</td>\n",
              "      <td>35.0</td>\n",
              "      <td>1</td>\n",
              "      <td>0</td>\n",
              "      <td>113803</td>\n",
              "      <td>53.1000</td>\n",
              "      <td>C123</td>\n",
              "      <td>S</td>\n",
              "    </tr>\n",
              "    <tr>\n",
              "      <th>4</th>\n",
              "      <td>5</td>\n",
              "      <td>0</td>\n",
              "      <td>3</td>\n",
              "      <td>Allen, Mr. William Henry</td>\n",
              "      <td>male</td>\n",
              "      <td>35.0</td>\n",
              "      <td>0</td>\n",
              "      <td>0</td>\n",
              "      <td>373450</td>\n",
              "      <td>8.0500</td>\n",
              "      <td>NaN</td>\n",
              "      <td>S</td>\n",
              "    </tr>\n",
              "  </tbody>\n",
              "</table>\n",
              "</div>"
            ],
            "text/plain": [
              "   PassengerId  Survived  Pclass  ...     Fare Cabin  Embarked\n",
              "0            1         0       3  ...   7.2500   NaN         S\n",
              "1            2         1       1  ...  71.2833   C85         C\n",
              "2            3         1       3  ...   7.9250   NaN         S\n",
              "3            4         1       1  ...  53.1000  C123         S\n",
              "4            5         0       3  ...   8.0500   NaN         S\n",
              "\n",
              "[5 rows x 12 columns]"
            ]
          },
          "metadata": {
            "tags": []
          },
          "execution_count": 166
        }
      ]
    },
    {
      "cell_type": "markdown",
      "metadata": {
        "id": "KrNfCn8H8Cj2"
      },
      "source": [
        "Luego de esto, se verifican los datos, en términos de su tipo y de los \"NULL counts\":"
      ]
    },
    {
      "cell_type": "code",
      "metadata": {
        "id": "5iYB5XSf8hmC",
        "outputId": "d4197601-315b-43f5-abe1-6accf749484e",
        "colab": {
          "base_uri": "https://localhost:8080/"
        }
      },
      "source": [
        "titanic_train.info()\n",
        "titanic_test.info()"
      ],
      "execution_count": null,
      "outputs": [
        {
          "output_type": "stream",
          "text": [
            "<class 'pandas.core.frame.DataFrame'>\n",
            "RangeIndex: 891 entries, 0 to 890\n",
            "Data columns (total 12 columns):\n",
            " #   Column       Non-Null Count  Dtype  \n",
            "---  ------       --------------  -----  \n",
            " 0   PassengerId  891 non-null    int64  \n",
            " 1   Survived     891 non-null    int64  \n",
            " 2   Pclass       891 non-null    int64  \n",
            " 3   Name         891 non-null    object \n",
            " 4   Sex          891 non-null    object \n",
            " 5   Age          714 non-null    float64\n",
            " 6   SibSp        891 non-null    int64  \n",
            " 7   Parch        891 non-null    int64  \n",
            " 8   Ticket       891 non-null    object \n",
            " 9   Fare         891 non-null    float64\n",
            " 10  Cabin        204 non-null    object \n",
            " 11  Embarked     889 non-null    object \n",
            "dtypes: float64(2), int64(5), object(5)\n",
            "memory usage: 83.7+ KB\n",
            "<class 'pandas.core.frame.DataFrame'>\n",
            "RangeIndex: 418 entries, 0 to 417\n",
            "Data columns (total 11 columns):\n",
            " #   Column       Non-Null Count  Dtype  \n",
            "---  ------       --------------  -----  \n",
            " 0   PassengerId  418 non-null    int64  \n",
            " 1   Pclass       418 non-null    int64  \n",
            " 2   Name         418 non-null    object \n",
            " 3   Sex          418 non-null    object \n",
            " 4   Age          332 non-null    float64\n",
            " 5   SibSp        418 non-null    int64  \n",
            " 6   Parch        418 non-null    int64  \n",
            " 7   Ticket       418 non-null    object \n",
            " 8   Fare         417 non-null    float64\n",
            " 9   Cabin        91 non-null     object \n",
            " 10  Embarked     418 non-null    object \n",
            "dtypes: float64(2), int64(4), object(5)\n",
            "memory usage: 36.0+ KB\n"
          ],
          "name": "stdout"
        }
      ]
    },
    {
      "cell_type": "markdown",
      "metadata": {
        "id": "LPA57swW-s3Y"
      },
      "source": [
        "Como se observa, se tienen 891 entradas (filas) con diferentes tipos de datos, ya que se cuentan con datos que marca como \"object\", que son cadenas de caracteres, como pueden ser los nombres o los códigos de los tiquetes. \n",
        "\n",
        "Al observar la cuenta, se aprecia que en algunas columnas hacen falta datos, como sucede con la edad, la cabina y el embarque. Posteriormente, se completarán o eliminarán filas o columnas dependiendo del dato. Por el momento, sirve observar un poco más la información que se tiene para no borrar información necesaria, o para no generar ruido con datos que están equivocados y se introducen en el dataset.\n",
        "\n"
      ]
    },
    {
      "cell_type": "markdown",
      "metadata": {
        "id": "6xfzOe0V_i6Q"
      },
      "source": [
        "Primero, se observan las tendencias de los datos numéricos:"
      ]
    },
    {
      "cell_type": "code",
      "metadata": {
        "id": "gGMO4Hgz-n9j",
        "outputId": "4473c11b-f259-422d-f35a-5f5cc4817891",
        "colab": {
          "base_uri": "https://localhost:8080/",
          "height": 297
        }
      },
      "source": [
        "titanic_train.describe()"
      ],
      "execution_count": null,
      "outputs": [
        {
          "output_type": "execute_result",
          "data": {
            "text/html": [
              "<div>\n",
              "<style scoped>\n",
              "    .dataframe tbody tr th:only-of-type {\n",
              "        vertical-align: middle;\n",
              "    }\n",
              "\n",
              "    .dataframe tbody tr th {\n",
              "        vertical-align: top;\n",
              "    }\n",
              "\n",
              "    .dataframe thead th {\n",
              "        text-align: right;\n",
              "    }\n",
              "</style>\n",
              "<table border=\"1\" class=\"dataframe\">\n",
              "  <thead>\n",
              "    <tr style=\"text-align: right;\">\n",
              "      <th></th>\n",
              "      <th>PassengerId</th>\n",
              "      <th>Survived</th>\n",
              "      <th>Pclass</th>\n",
              "      <th>Age</th>\n",
              "      <th>SibSp</th>\n",
              "      <th>Parch</th>\n",
              "      <th>Fare</th>\n",
              "    </tr>\n",
              "  </thead>\n",
              "  <tbody>\n",
              "    <tr>\n",
              "      <th>count</th>\n",
              "      <td>891.000000</td>\n",
              "      <td>891.000000</td>\n",
              "      <td>891.000000</td>\n",
              "      <td>714.000000</td>\n",
              "      <td>891.000000</td>\n",
              "      <td>891.000000</td>\n",
              "      <td>891.000000</td>\n",
              "    </tr>\n",
              "    <tr>\n",
              "      <th>mean</th>\n",
              "      <td>446.000000</td>\n",
              "      <td>0.383838</td>\n",
              "      <td>2.308642</td>\n",
              "      <td>29.699118</td>\n",
              "      <td>0.523008</td>\n",
              "      <td>0.381594</td>\n",
              "      <td>32.204208</td>\n",
              "    </tr>\n",
              "    <tr>\n",
              "      <th>std</th>\n",
              "      <td>257.353842</td>\n",
              "      <td>0.486592</td>\n",
              "      <td>0.836071</td>\n",
              "      <td>14.526497</td>\n",
              "      <td>1.102743</td>\n",
              "      <td>0.806057</td>\n",
              "      <td>49.693429</td>\n",
              "    </tr>\n",
              "    <tr>\n",
              "      <th>min</th>\n",
              "      <td>1.000000</td>\n",
              "      <td>0.000000</td>\n",
              "      <td>1.000000</td>\n",
              "      <td>0.420000</td>\n",
              "      <td>0.000000</td>\n",
              "      <td>0.000000</td>\n",
              "      <td>0.000000</td>\n",
              "    </tr>\n",
              "    <tr>\n",
              "      <th>25%</th>\n",
              "      <td>223.500000</td>\n",
              "      <td>0.000000</td>\n",
              "      <td>2.000000</td>\n",
              "      <td>20.125000</td>\n",
              "      <td>0.000000</td>\n",
              "      <td>0.000000</td>\n",
              "      <td>7.910400</td>\n",
              "    </tr>\n",
              "    <tr>\n",
              "      <th>50%</th>\n",
              "      <td>446.000000</td>\n",
              "      <td>0.000000</td>\n",
              "      <td>3.000000</td>\n",
              "      <td>28.000000</td>\n",
              "      <td>0.000000</td>\n",
              "      <td>0.000000</td>\n",
              "      <td>14.454200</td>\n",
              "    </tr>\n",
              "    <tr>\n",
              "      <th>75%</th>\n",
              "      <td>668.500000</td>\n",
              "      <td>1.000000</td>\n",
              "      <td>3.000000</td>\n",
              "      <td>38.000000</td>\n",
              "      <td>1.000000</td>\n",
              "      <td>0.000000</td>\n",
              "      <td>31.000000</td>\n",
              "    </tr>\n",
              "    <tr>\n",
              "      <th>max</th>\n",
              "      <td>891.000000</td>\n",
              "      <td>1.000000</td>\n",
              "      <td>3.000000</td>\n",
              "      <td>80.000000</td>\n",
              "      <td>8.000000</td>\n",
              "      <td>6.000000</td>\n",
              "      <td>512.329200</td>\n",
              "    </tr>\n",
              "  </tbody>\n",
              "</table>\n",
              "</div>"
            ],
            "text/plain": [
              "       PassengerId    Survived      Pclass  ...       SibSp       Parch        Fare\n",
              "count   891.000000  891.000000  891.000000  ...  891.000000  891.000000  891.000000\n",
              "mean    446.000000    0.383838    2.308642  ...    0.523008    0.381594   32.204208\n",
              "std     257.353842    0.486592    0.836071  ...    1.102743    0.806057   49.693429\n",
              "min       1.000000    0.000000    1.000000  ...    0.000000    0.000000    0.000000\n",
              "25%     223.500000    0.000000    2.000000  ...    0.000000    0.000000    7.910400\n",
              "50%     446.000000    0.000000    3.000000  ...    0.000000    0.000000   14.454200\n",
              "75%     668.500000    1.000000    3.000000  ...    1.000000    0.000000   31.000000\n",
              "max     891.000000    1.000000    3.000000  ...    8.000000    6.000000  512.329200\n",
              "\n",
              "[8 rows x 7 columns]"
            ]
          },
          "metadata": {
            "tags": []
          },
          "execution_count": 8
        }
      ]
    },
    {
      "cell_type": "markdown",
      "metadata": {
        "id": "C_TWuy_uBieM"
      },
      "source": [
        "Para poder realizar observaciones más puntuales sobre los datos tanto numéricos como categóricos, se separan los datos y se verifican las distribuciones, correlaciones, etc."
      ]
    },
    {
      "cell_type": "code",
      "metadata": {
        "id": "J6tTTn4B_ye7"
      },
      "source": [
        "d_num=titanic_train[['Age','SibSp','Parch','Fare']]\n",
        "d_cat=titanic_train[['Survived','Pclass','Sex','Ticket','Cabin','Embarked']]"
      ],
      "execution_count": null,
      "outputs": []
    },
    {
      "cell_type": "markdown",
      "metadata": {
        "id": "moLAIk-gDFMM"
      },
      "source": [
        "Se visualizan los datos numéricos:"
      ]
    },
    {
      "cell_type": "code",
      "metadata": {
        "id": "Fr6klw2dCUpu",
        "outputId": "04487d4d-0868-4512-e617-262a50fa54fd",
        "colab": {
          "base_uri": "https://localhost:8080/",
          "height": 1000
        }
      },
      "source": [
        "for i in d_num.columns:\n",
        "  plt.hist(d_num[i])\n",
        "  plt.title(i)\n",
        "  plt.show()"
      ],
      "execution_count": null,
      "outputs": [
        {
          "output_type": "stream",
          "text": [
            "/usr/local/lib/python3.6/dist-packages/numpy/lib/histograms.py:839: RuntimeWarning: invalid value encountered in greater_equal\n",
            "  keep = (tmp_a >= first_edge)\n",
            "/usr/local/lib/python3.6/dist-packages/numpy/lib/histograms.py:840: RuntimeWarning: invalid value encountered in less_equal\n",
            "  keep &= (tmp_a <= last_edge)\n"
          ],
          "name": "stderr"
        },
        {
          "output_type": "display_data",
          "data": {
            "image/png": "[encoded data removed]",
            "text/plain": [
              "<Figure size 432x288 with 1 Axes>"
            ]
          },
          "metadata": {
            "tags": []
          }
        },
        {
          "output_type": "display_data",
          "data": {
            "image/png": "[encoded data removed]",
            "text/plain": [
              "<Figure size 432x288 with 1 Axes>"
            ]
          },
          "metadata": {
            "tags": []
          }
        },
        {
          "output_type": "display_data",
          "data": {
            "image/png": "[encoded data removed]",
            "text/plain": [
              "<Figure size 432x288 with 1 Axes>"
            ]
          },
          "metadata": {
            "tags": []
          }
        },
        {
          "output_type": "display_data",
          "data": {
            "image/png": "[encoded data removed]",
            "text/plain": [
              "<Figure size 432x288 with 1 Axes>"
            ]
          },
          "metadata": {
            "tags": []
          }
        }
      ]
    },
    {
      "cell_type": "markdown",
      "metadata": {
        "id": "A7dlQvLDGuan"
      },
      "source": [
        "Ahora se observa la correlación entre esos datos:"
      ]
    },
    {
      "cell_type": "code",
      "metadata": {
        "id": "zNsSWsl4FyYB",
        "outputId": "82fe9236-86c0-4f06-f5c4-e11995a78a22",
        "colab": {
          "base_uri": "https://localhost:8080/",
          "height": 371
        }
      },
      "source": [
        "print(d_num.corr())\n",
        "sns.heatmap(d_num.corr())"
      ],
      "execution_count": null,
      "outputs": [
        {
          "output_type": "stream",
          "text": [
            "            Age     SibSp     Parch      Fare\n",
            "Age    1.000000 -0.308247 -0.189119  0.096067\n",
            "SibSp -0.308247  1.000000  0.414838  0.159651\n",
            "Parch -0.189119  0.414838  1.000000  0.216225\n",
            "Fare   0.096067  0.159651  0.216225  1.000000\n"
          ],
          "name": "stdout"
        },
        {
          "output_type": "execute_result",
          "data": {
            "text/plain": [
              "<matplotlib.axes._subplots.AxesSubplot at 0x7f5c600ccfd0>"
            ]
          },
          "metadata": {
            "tags": []
          },
          "execution_count": 11
        },
        {
          "output_type": "display_data",
          "data": {
            "image/png": "[encoded data removed]",
            "text/plain": [
              "<Figure size 432x288 with 2 Axes>"
            ]
          },
          "metadata": {
            "tags": []
          }
        }
      ]
    },
    {
      "cell_type": "markdown",
      "metadata": {
        "id": "T-t8wKhOHOTu"
      },
      "source": [
        "Por el momento, se observa que los datos no están altamente correlacionados, e incluso hay valores negativos de correlación. Adicionalmente, se hace una comparación entre los sobrevivientes a partir de los datos numéricos, ya que esto puede ser importante a la hora de contruir el modelo:"
      ]
    },
    {
      "cell_type": "code",
      "metadata": {
        "id": "we6GVCPlG_UB",
        "outputId": "5c16f587-65b6-453e-ac7f-31e9e632c68e",
        "colab": {
          "base_uri": "https://localhost:8080/",
          "height": 142
        }
      },
      "source": [
        "pd.pivot_table(titanic_train, index='Survived',values=['Age','SibSp','Parch','Fare'])"
      ],
      "execution_count": null,
      "outputs": [
        {
          "output_type": "execute_result",
          "data": {
            "text/html": [
              "<div>\n",
              "<style scoped>\n",
              "    .dataframe tbody tr th:only-of-type {\n",
              "        vertical-align: middle;\n",
              "    }\n",
              "\n",
              "    .dataframe tbody tr th {\n",
              "        vertical-align: top;\n",
              "    }\n",
              "\n",
              "    .dataframe thead th {\n",
              "        text-align: right;\n",
              "    }\n",
              "</style>\n",
              "<table border=\"1\" class=\"dataframe\">\n",
              "  <thead>\n",
              "    <tr style=\"text-align: right;\">\n",
              "      <th></th>\n",
              "      <th>Age</th>\n",
              "      <th>Fare</th>\n",
              "      <th>Parch</th>\n",
              "      <th>SibSp</th>\n",
              "    </tr>\n",
              "    <tr>\n",
              "      <th>Survived</th>\n",
              "      <th></th>\n",
              "      <th></th>\n",
              "      <th></th>\n",
              "      <th></th>\n",
              "    </tr>\n",
              "  </thead>\n",
              "  <tbody>\n",
              "    <tr>\n",
              "      <th>0</th>\n",
              "      <td>30.626179</td>\n",
              "      <td>22.117887</td>\n",
              "      <td>0.329690</td>\n",
              "      <td>0.553734</td>\n",
              "    </tr>\n",
              "    <tr>\n",
              "      <th>1</th>\n",
              "      <td>28.343690</td>\n",
              "      <td>48.395408</td>\n",
              "      <td>0.464912</td>\n",
              "      <td>0.473684</td>\n",
              "    </tr>\n",
              "  </tbody>\n",
              "</table>\n",
              "</div>"
            ],
            "text/plain": [
              "                Age       Fare     Parch     SibSp\n",
              "Survived                                          \n",
              "0         30.626179  22.117887  0.329690  0.553734\n",
              "1         28.343690  48.395408  0.464912  0.473684"
            ]
          },
          "metadata": {
            "tags": []
          },
          "execution_count": 12
        }
      ]
    },
    {
      "cell_type": "markdown",
      "metadata": {
        "id": "2OoeQGfgIaWa"
      },
      "source": [
        "Para hacer observaciones de los datos categóricos, se hacen graficos de barras para entender como se dividen las categorias/clases de estos datos"
      ]
    },
    {
      "cell_type": "code",
      "metadata": {
        "id": "Vb9vTHA5INIb",
        "outputId": "095e7a38-980e-4589-9077-f02ee09eb8eb",
        "colab": {
          "base_uri": "https://localhost:8080/",
          "height": 1000
        }
      },
      "source": [
        "for i in d_cat.columns:\n",
        "  plt.bar(d_cat[i].value_counts().index,d_cat[i].value_counts())\n",
        "  plt.title(i)\n",
        "  plt.show()"
      ],
      "execution_count": null,
      "outputs": [
        {
          "output_type": "display_data",
          "data": {
            "image/png": "[encoded data removed]",
            "text/plain": [
              "<Figure size 432x288 with 1 Axes>"
            ]
          },
          "metadata": {
            "tags": []
          }
        },
        {
          "output_type": "display_data",
          "data": {
            "image/png": "[encoded data removed]",
            "text/plain": [
              "<Figure size 432x288 with 1 Axes>"
            ]
          },
          "metadata": {
            "tags": []
          }
        },
        {
          "output_type": "display_data",
          "data": {
            "image/png": "[encoded data removed]",
            "text/plain": [
              "<Figure size 432x288 with 1 Axes>"
            ]
          },
          "metadata": {
            "tags": []
          }
        },
        {
          "output_type": "display_data",
          "data": {
            "image/png": "[encoded data removed]",
            "text/plain": [
              "<Figure size 432x288 with 1 Axes>"
            ]
          },
          "metadata": {
            "tags": []
          }
        },
        {
          "output_type": "display_data",
          "data": {
            "image/png": "[encoded data removed]",
            "text/plain": [
              "<Figure size 432x288 with 1 Axes>"
            ]
          },
          "metadata": {
            "tags": []
          }
        },
        {
          "output_type": "display_data",
          "data": {
            "image/png": "[encoded data removed]",
            "text/plain": [
              "<Figure size 432x288 with 1 Axes>"
            ]
          },
          "metadata": {
            "tags": []
          }
        }
      ]
    },
    {
      "cell_type": "markdown",
      "metadata": {
        "id": "6pmxeTlwM6g4"
      },
      "source": [
        "Se hace un analisis similar al de los datos numericos, pues se debe al final clasificar si las personas sobreviven o no, dado esto se hacen tablas dependiendo de las categorías:"
      ]
    },
    {
      "cell_type": "code",
      "metadata": {
        "id": "HGXf4YqcJJku",
        "outputId": "97d61f35-9c53-482a-e399-6612ac2a659d",
        "colab": {
          "base_uri": "https://localhost:8080/",
          "height": 142
        }
      },
      "source": [
        "pd.pivot_table(titanic_train, index = 'Survived', columns = 'Pclass', values = 'Ticket' ,aggfunc ='count')"
      ],
      "execution_count": null,
      "outputs": [
        {
          "output_type": "execute_result",
          "data": {
            "text/html": [
              "<div>\n",
              "<style scoped>\n",
              "    .dataframe tbody tr th:only-of-type {\n",
              "        vertical-align: middle;\n",
              "    }\n",
              "\n",
              "    .dataframe tbody tr th {\n",
              "        vertical-align: top;\n",
              "    }\n",
              "\n",
              "    .dataframe thead th {\n",
              "        text-align: right;\n",
              "    }\n",
              "</style>\n",
              "<table border=\"1\" class=\"dataframe\">\n",
              "  <thead>\n",
              "    <tr style=\"text-align: right;\">\n",
              "      <th>Pclass</th>\n",
              "      <th>1</th>\n",
              "      <th>2</th>\n",
              "      <th>3</th>\n",
              "    </tr>\n",
              "    <tr>\n",
              "      <th>Survived</th>\n",
              "      <th></th>\n",
              "      <th></th>\n",
              "      <th></th>\n",
              "    </tr>\n",
              "  </thead>\n",
              "  <tbody>\n",
              "    <tr>\n",
              "      <th>0</th>\n",
              "      <td>80</td>\n",
              "      <td>97</td>\n",
              "      <td>372</td>\n",
              "    </tr>\n",
              "    <tr>\n",
              "      <th>1</th>\n",
              "      <td>136</td>\n",
              "      <td>87</td>\n",
              "      <td>119</td>\n",
              "    </tr>\n",
              "  </tbody>\n",
              "</table>\n",
              "</div>"
            ],
            "text/plain": [
              "Pclass      1   2    3\n",
              "Survived              \n",
              "0          80  97  372\n",
              "1         136  87  119"
            ]
          },
          "metadata": {
            "tags": []
          },
          "execution_count": 14
        }
      ]
    },
    {
      "cell_type": "code",
      "metadata": {
        "id": "9c_ExIrAOUIE",
        "outputId": "ac719a1b-1a18-4939-f4d8-c44f57783d81",
        "colab": {
          "base_uri": "https://localhost:8080/",
          "height": 142
        }
      },
      "source": [
        "pd.pivot_table(titanic_train, index = 'Survived', columns = 'Sex', values = 'Ticket' ,aggfunc ='count')"
      ],
      "execution_count": null,
      "outputs": [
        {
          "output_type": "execute_result",
          "data": {
            "text/html": [
              "<div>\n",
              "<style scoped>\n",
              "    .dataframe tbody tr th:only-of-type {\n",
              "        vertical-align: middle;\n",
              "    }\n",
              "\n",
              "    .dataframe tbody tr th {\n",
              "        vertical-align: top;\n",
              "    }\n",
              "\n",
              "    .dataframe thead th {\n",
              "        text-align: right;\n",
              "    }\n",
              "</style>\n",
              "<table border=\"1\" class=\"dataframe\">\n",
              "  <thead>\n",
              "    <tr style=\"text-align: right;\">\n",
              "      <th>Sex</th>\n",
              "      <th>female</th>\n",
              "      <th>male</th>\n",
              "    </tr>\n",
              "    <tr>\n",
              "      <th>Survived</th>\n",
              "      <th></th>\n",
              "      <th></th>\n",
              "    </tr>\n",
              "  </thead>\n",
              "  <tbody>\n",
              "    <tr>\n",
              "      <th>0</th>\n",
              "      <td>81</td>\n",
              "      <td>468</td>\n",
              "    </tr>\n",
              "    <tr>\n",
              "      <th>1</th>\n",
              "      <td>233</td>\n",
              "      <td>109</td>\n",
              "    </tr>\n",
              "  </tbody>\n",
              "</table>\n",
              "</div>"
            ],
            "text/plain": [
              "Sex       female  male\n",
              "Survived              \n",
              "0             81   468\n",
              "1            233   109"
            ]
          },
          "metadata": {
            "tags": []
          },
          "execution_count": 15
        }
      ]
    },
    {
      "cell_type": "code",
      "metadata": {
        "id": "jPjbnq3NOYWs",
        "outputId": "af72b7bf-1c6f-40be-f0e4-38fad06ad10a",
        "colab": {
          "base_uri": "https://localhost:8080/",
          "height": 142
        }
      },
      "source": [
        "pd.pivot_table(titanic_train, index = 'Survived', columns = 'Embarked', values = 'Ticket' ,aggfunc ='count')"
      ],
      "execution_count": null,
      "outputs": [
        {
          "output_type": "execute_result",
          "data": {
            "text/html": [
              "<div>\n",
              "<style scoped>\n",
              "    .dataframe tbody tr th:only-of-type {\n",
              "        vertical-align: middle;\n",
              "    }\n",
              "\n",
              "    .dataframe tbody tr th {\n",
              "        vertical-align: top;\n",
              "    }\n",
              "\n",
              "    .dataframe thead th {\n",
              "        text-align: right;\n",
              "    }\n",
              "</style>\n",
              "<table border=\"1\" class=\"dataframe\">\n",
              "  <thead>\n",
              "    <tr style=\"text-align: right;\">\n",
              "      <th>Embarked</th>\n",
              "      <th>C</th>\n",
              "      <th>Q</th>\n",
              "      <th>S</th>\n",
              "    </tr>\n",
              "    <tr>\n",
              "      <th>Survived</th>\n",
              "      <th></th>\n",
              "      <th></th>\n",
              "      <th></th>\n",
              "    </tr>\n",
              "  </thead>\n",
              "  <tbody>\n",
              "    <tr>\n",
              "      <th>0</th>\n",
              "      <td>75</td>\n",
              "      <td>47</td>\n",
              "      <td>427</td>\n",
              "    </tr>\n",
              "    <tr>\n",
              "      <th>1</th>\n",
              "      <td>93</td>\n",
              "      <td>30</td>\n",
              "      <td>217</td>\n",
              "    </tr>\n",
              "  </tbody>\n",
              "</table>\n",
              "</div>"
            ],
            "text/plain": [
              "Embarked   C   Q    S\n",
              "Survived             \n",
              "0         75  47  427\n",
              "1         93  30  217"
            ]
          },
          "metadata": {
            "tags": []
          },
          "execution_count": 16
        }
      ]
    },
    {
      "cell_type": "markdown",
      "metadata": {
        "id": "NQstTGG0NuNT"
      },
      "source": [
        "De estas tablas, se podría concluir que la clase del pasajero y el sexo de las personas puede llegar a influir en el resultado."
      ]
    },
    {
      "cell_type": "markdown",
      "metadata": {
        "id": "rJt40Gk6xd8q"
      },
      "source": [
        "Ya que se conoce un poco más el dataset, se pueden realizar las conversiones de las variables categóricas, y se puede llenar la tabla con los datos que faltan, o borrar columnas que no son necesarias o que debido a que faltan datos no sirven para entrenar o evaluar.\n",
        "\n",
        "Primero, del conteo del lugar de embarcación, hacen falta 2 datos, y del analisis que se hizo, se podrían suprimir esas 2 entradas que no tienen el dato de embarcación:"
      ]
    },
    {
      "cell_type": "code",
      "metadata": {
        "id": "ypKKUlfcOXz8"
      },
      "source": [
        "titanic_train.dropna(subset=['Embarked'],inplace = True)"
      ],
      "execution_count": null,
      "outputs": []
    },
    {
      "cell_type": "markdown",
      "metadata": {
        "id": "XYd9Fap7y3EI"
      },
      "source": [
        "Por otro lado, otros dato que está \"incompleto\" y el cual puede considerarse necesario, ya que puede llegar a influir bastante en el resultado de la clasificación es la edad. Para no tener tanto error en el resultado, se rellenan los campos faltantes con la media o la mediana de los datos existentes, para no alterar mucho la distribución de los datos."
      ]
    },
    {
      "cell_type": "code",
      "metadata": {
        "id": "9Vl5w0WsNlnr",
        "outputId": "ffdff28e-58c7-45df-ff92-dc0094a8f835",
        "colab": {
          "base_uri": "https://localhost:8080/",
          "height": 897
        }
      },
      "source": [
        "plt.hist(titanic_train.Age)\n",
        "plt.title('Distribución con los datos originales de edad')\n",
        "plt.show()\n",
        "\n",
        "train_copy1=titanic_train.copy()\n",
        "train_copy2=titanic_train.copy()\n",
        "\n",
        "train_copy1.Age = train_copy1.Age.fillna(train_copy1.Age.mean())\n",
        "plt.hist(train_copy1.Age)\n",
        "plt.title('Distribución con los datos adicionales de la edad (media)')\n",
        "plt.show()\n",
        "\n",
        "train_copy2.Age = train_copy2.Age.fillna(train_copy2.Age.median())\n",
        "plt.hist(train_copy2.Age)\n",
        "plt.title('Distribución con los datos adicionales de la edad (mediana)')\n",
        "plt.show()\n",
        "\n",
        "\n"
      ],
      "execution_count": null,
      "outputs": [
        {
          "output_type": "stream",
          "text": [
            "/usr/local/lib/python3.6/dist-packages/numpy/lib/histograms.py:839: RuntimeWarning: invalid value encountered in greater_equal\n",
            "  keep = (tmp_a >= first_edge)\n",
            "/usr/local/lib/python3.6/dist-packages/numpy/lib/histograms.py:840: RuntimeWarning: invalid value encountered in less_equal\n",
            "  keep &= (tmp_a <= last_edge)\n"
          ],
          "name": "stderr"
        },
        {
          "output_type": "display_data",
          "data": {
            "image/png": "[encoded data removed]",
            "text/plain": [
              "<Figure size 432x288 with 1 Axes>"
            ]
          },
          "metadata": {
            "tags": []
          }
        },
        {
          "output_type": "display_data",
          "data": {
            "image/png": "[encoded data removed]",
            "text/plain": [
              "<Figure size 432x288 with 1 Axes>"
            ]
          },
          "metadata": {
            "tags": []
          }
        },
        {
          "output_type": "display_data",
          "data": {
            "image/png": "[encoded data removed]",
            "text/plain": [
              "<Figure size 432x288 with 1 Axes>"
            ]
          },
          "metadata": {
            "tags": []
          }
        }
      ]
    },
    {
      "cell_type": "markdown",
      "metadata": {
        "id": "BXcgEWkz4f9s"
      },
      "source": [
        "De la prueba realizada entre llenar los datos de edad y la tarifa con la media y la mediana, se observan que los resultados son similares si no iguales. Adicionalmente, los datos de la tarifa se pueden normalizar para que se de una mejor distribución de los datos."
      ]
    },
    {
      "cell_type": "code",
      "metadata": {
        "id": "nViKkMwb2bxF",
        "outputId": "6356fff0-bb24-4b24-9cd4-e38d5ad12cf9",
        "colab": {
          "base_uri": "https://localhost:8080/",
          "height": 545
        }
      },
      "source": [
        "#Se hace el cambio definitivo para llenar los datos de edad\n",
        "titanic_train.Age = titanic_train.Age.fillna(titanic_train.Age.mean())\n",
        "titanic_test.Age = titanic_test.Age.fillna(titanic_train.Age.mean())\n",
        "\n",
        "train_copy1['norm_fare'] = np.log(train_copy1.Fare + 1) #Se hace la normalización\n",
        "#Se muestra la diferencia entre la tarifa normalizada y la original para posteriormente hacer el cambio\n",
        "plt.hist(train_copy2.Fare)\n",
        "plt.title('Datos originales de la tarifa')\n",
        "plt.show()\n",
        "plt.hist(train_copy1.norm_fare)\n",
        "plt.title('Datos normalizados de la tarifa')\n",
        "plt.show()\n",
        "\n"
      ],
      "execution_count": null,
      "outputs": [
        {
          "output_type": "display_data",
          "data": {
            "image/png": "[encoded data removed]",
            "text/plain": [
              "<Figure size 432x288 with 1 Axes>"
            ]
          },
          "metadata": {
            "tags": []
          }
        },
        {
          "output_type": "display_data",
          "data": {
            "image/png": "[encoded data removed]",
            "text/plain": [
              "<Figure size 432x288 with 1 Axes>"
            ]
          },
          "metadata": {
            "tags": []
          }
        }
      ]
    },
    {
      "cell_type": "markdown",
      "metadata": {
        "id": "zyPHQpLr974I"
      },
      "source": [
        "Luego de normalizar los datos de la tarifa, se realiza la conversión y escalización de los datos, tanto de entrenamiento como de evaluación, para lo cual se adecuan algunos datos como el nombre, ya que esto puede influir en el la clasificación."
      ]
    },
    {
      "cell_type": "code",
      "metadata": {
        "id": "5PEre536-Vh_"
      },
      "source": [
        "#Se obtiene una nueva columna a partir de los titulos de nombre\n",
        "#titanic_train['name_title'] = titanic_train.Name.apply(lambda x: x.split(',')[1].split('.')[0].strip())\n",
        "#titanic_test['name_title'] = titanic_test.Name.apply(lambda x: x.split(',')[1].split('.')[0].strip())\n",
        "\n",
        "#Se realiza la normalización de los datos de la tarifa\n",
        "titanic_train['norm_fare'] = np.log(titanic_train.Fare+1)\n",
        "\n",
        "#Para los datos de test, del conteo se tiene que hace falta 1 dato para tarifa, por eso se llena con la media aunque pueda ser ruido\n",
        "#titanic_test.Fare=titanic_test.fillna(titanic_test.Fare.mean().astype(dtype=\"float64\"))\n",
        "\n",
        "#También se realiza la normalización para los datos de test\n",
        "titanic_test.Fare = titanic_test.Fare.apply(lambda x: titanic_test.Fare.mean() if x==0 else x)\n",
        "titanic_test['norm_fare'] = np.log(1 + titanic_test.Fare)\n",
        "\n",
        "\n",
        "#Se convierte a str los datos de la clase del pasajero, ya que esa variable es categórica y no numérica\n",
        "titanic_train.Pclass=titanic_train.Pclass.astype(str)\n",
        "titanic_test.Pclass=titanic_test.Pclass.astype(str)\n",
        "\n",
        "#train_dummies=pd.get_dummies(titanic_train[['Pclass','Sex','Age','norm_fare','Embarked','name_title']])\n",
        "#test_dummies=pd.get_dummies(titanic_test[['Pclass','Sex','Age','norm_fare','Embarked','name_title']])"
      ],
      "execution_count": null,
      "outputs": []
    },
    {
      "cell_type": "code",
      "metadata": {
        "id": "VLDQ8KyFy1Ga",
        "outputId": "c2757407-0ecb-4614-b76a-8e46fe1a8b21",
        "colab": {
          "base_uri": "https://localhost:8080/"
        }
      },
      "source": [
        "titanic_train.info()"
      ],
      "execution_count": null,
      "outputs": [
        {
          "output_type": "stream",
          "text": [
            "<class 'pandas.core.frame.DataFrame'>\n",
            "Int64Index: 889 entries, 0 to 890\n",
            "Data columns (total 14 columns):\n",
            " #   Column       Non-Null Count  Dtype  \n",
            "---  ------       --------------  -----  \n",
            " 0   PassengerId  889 non-null    int64  \n",
            " 1   Survived     889 non-null    int64  \n",
            " 2   Pclass       889 non-null    object \n",
            " 3   Name         889 non-null    object \n",
            " 4   Sex          889 non-null    object \n",
            " 5   Age          889 non-null    float64\n",
            " 6   SibSp        889 non-null    int64  \n",
            " 7   Parch        889 non-null    int64  \n",
            " 8   Ticket       889 non-null    object \n",
            " 9   Fare         889 non-null    float64\n",
            " 10  Cabin        202 non-null    object \n",
            " 11  Embarked     889 non-null    object \n",
            " 12  name_title   889 non-null    object \n",
            " 13  norm_fare    889 non-null    float64\n",
            "dtypes: float64(3), int64(4), object(7)\n",
            "memory usage: 104.2+ KB\n"
          ],
          "name": "stdout"
        }
      ]
    },
    {
      "cell_type": "code",
      "metadata": {
        "id": "c2EbQjXKq2zX",
        "outputId": "172b0598-fe02-403e-9b90-72072758d70a",
        "colab": {
          "base_uri": "https://localhost:8080/"
        }
      },
      "source": [
        "train_dummies.info()"
      ],
      "execution_count": null,
      "outputs": [
        {
          "output_type": "stream",
          "text": [
            "<class 'pandas.core.frame.DataFrame'>\n",
            "Int64Index: 889 entries, 0 to 890\n",
            "Data columns (total 27 columns):\n",
            " #   Column                   Non-Null Count  Dtype  \n",
            "---  ------                   --------------  -----  \n",
            " 0   Age                      889 non-null    float64\n",
            " 1   norm_fare                889 non-null    float64\n",
            " 2   Pclass_1                 889 non-null    uint8  \n",
            " 3   Pclass_2                 889 non-null    uint8  \n",
            " 4   Pclass_3                 889 non-null    uint8  \n",
            " 5   Sex_female               889 non-null    uint8  \n",
            " 6   Sex_male                 889 non-null    uint8  \n",
            " 7   Embarked_C               889 non-null    uint8  \n",
            " 8   Embarked_Q               889 non-null    uint8  \n",
            " 9   Embarked_S               889 non-null    uint8  \n",
            " 10  name_title_Capt          889 non-null    uint8  \n",
            " 11  name_title_Col           889 non-null    uint8  \n",
            " 12  name_title_Don           889 non-null    uint8  \n",
            " 13  name_title_Dr            889 non-null    uint8  \n",
            " 14  name_title_Jonkheer      889 non-null    uint8  \n",
            " 15  name_title_Lady          889 non-null    uint8  \n",
            " 16  name_title_Major         889 non-null    uint8  \n",
            " 17  name_title_Master        889 non-null    uint8  \n",
            " 18  name_title_Miss          889 non-null    uint8  \n",
            " 19  name_title_Mlle          889 non-null    uint8  \n",
            " 20  name_title_Mme           889 non-null    uint8  \n",
            " 21  name_title_Mr            889 non-null    uint8  \n",
            " 22  name_title_Mrs           889 non-null    uint8  \n",
            " 23  name_title_Ms            889 non-null    uint8  \n",
            " 24  name_title_Rev           889 non-null    uint8  \n",
            " 25  name_title_Sir           889 non-null    uint8  \n",
            " 26  name_title_the Countess  889 non-null    uint8  \n",
            "dtypes: float64(2), uint8(25)\n",
            "memory usage: 42.5 KB\n"
          ],
          "name": "stdout"
        }
      ]
    },
    {
      "cell_type": "code",
      "metadata": {
        "id": "N6wRsY1ft4c-",
        "outputId": "3e2e850f-6c50-4aad-fbd7-3d9c64266df4",
        "colab": {
          "base_uri": "https://localhost:8080/"
        }
      },
      "source": [
        "titanic_test.info()"
      ],
      "execution_count": null,
      "outputs": [
        {
          "output_type": "stream",
          "text": [
            "<class 'pandas.core.frame.DataFrame'>\n",
            "RangeIndex: 418 entries, 0 to 417\n",
            "Data columns (total 12 columns):\n",
            " #   Column       Non-Null Count  Dtype  \n",
            "---  ------       --------------  -----  \n",
            " 0   PassengerId  418 non-null    int64  \n",
            " 1   Pclass       418 non-null    object \n",
            " 2   Name         418 non-null    object \n",
            " 3   Sex          418 non-null    object \n",
            " 4   Age          332 non-null    float64\n",
            " 5   SibSp        418 non-null    int64  \n",
            " 6   Parch        418 non-null    int64  \n",
            " 7   Ticket       418 non-null    object \n",
            " 8   Fare         417 non-null    float64\n",
            " 9   Cabin        91 non-null     object \n",
            " 10  Embarked     418 non-null    object \n",
            " 11  norm_fare    417 non-null    float64\n",
            "dtypes: float64(3), int64(3), object(6)\n",
            "memory usage: 39.3+ KB\n"
          ],
          "name": "stdout"
        }
      ]
    },
    {
      "cell_type": "code",
      "metadata": {
        "id": "azvqT6EDt4-I",
        "outputId": "9f7e2f1f-eb35-4362-e503-5f12f4c63416",
        "colab": {
          "base_uri": "https://localhost:8080/"
        }
      },
      "source": [
        "test_dummies.info()"
      ],
      "execution_count": null,
      "outputs": [
        {
          "output_type": "stream",
          "text": [
            "<class 'pandas.core.frame.DataFrame'>\n",
            "RangeIndex: 418 entries, 0 to 417\n",
            "Data columns (total 19 columns):\n",
            " #   Column             Non-Null Count  Dtype  \n",
            "---  ------             --------------  -----  \n",
            " 0   Age                418 non-null    float64\n",
            " 1   norm_fare          417 non-null    float64\n",
            " 2   Pclass_1           418 non-null    uint8  \n",
            " 3   Pclass_2           418 non-null    uint8  \n",
            " 4   Pclass_3           418 non-null    uint8  \n",
            " 5   Sex_female         418 non-null    uint8  \n",
            " 6   Sex_male           418 non-null    uint8  \n",
            " 7   Embarked_C         418 non-null    uint8  \n",
            " 8   Embarked_Q         418 non-null    uint8  \n",
            " 9   Embarked_S         418 non-null    uint8  \n",
            " 10  name_title_Col     418 non-null    uint8  \n",
            " 11  name_title_Dona    418 non-null    uint8  \n",
            " 12  name_title_Dr      418 non-null    uint8  \n",
            " 13  name_title_Master  418 non-null    uint8  \n",
            " 14  name_title_Miss    418 non-null    uint8  \n",
            " 15  name_title_Mr      418 non-null    uint8  \n",
            " 16  name_title_Mrs     418 non-null    uint8  \n",
            " 17  name_title_Ms      418 non-null    uint8  \n",
            " 18  name_title_Rev     418 non-null    uint8  \n",
            "dtypes: float64(2), uint8(17)\n",
            "memory usage: 13.6 KB\n"
          ],
          "name": "stdout"
        }
      ]
    },
    {
      "cell_type": "markdown",
      "metadata": {
        "id": "1zlKJAjirjwO"
      },
      "source": [
        "Al usar pd.dummies, se obtienen columnas con binarios dependiendo de las separaciones para las clases hechas. Como se observa, ya no se cuenta con los 2 datos que faltaban por el embarque en el conjunto de entrenamiento, pero los titulos de los nombres cambian dentro de los 2 conjuntos de datos. Por esto, se juntan los datos para que tengan las mismas separaciones, y luego se separan.(Se deben correr otra vez los cuadros de arriba, comentariando la parte de pd.dummies)"
      ]
    },
    {
      "cell_type": "code",
      "metadata": {
        "id": "78MEZw5nu5LO"
      },
      "source": [
        "titanic_train['train_test']=1\n",
        "titanic_test['train_test']=0\n",
        "titanic_test['Survived']=np.NaN\n",
        "\n",
        "all_data=pd.concat([titanic_train,titanic_test])"
      ],
      "execution_count": null,
      "outputs": []
    },
    {
      "cell_type": "code",
      "metadata": {
        "id": "oF--9lqR49P0",
        "outputId": "a96a1809-62b9-42e4-fbba-460cf3a4c392",
        "colab": {
          "base_uri": "https://localhost:8080/"
        }
      },
      "source": [
        "all_data['name_title'] = all_data.Name.apply(lambda x: x.split(',')[1].split('.')[0].strip())\n",
        "\n",
        "all_dummies = pd.get_dummies(all_data[['Pclass','Sex','Age','SibSp','Parch','norm_fare','Embarked','name_title','train_test']])\n",
        "\n",
        "#Se dividen los conjuntos originales\n",
        "X_train_1 = all_dummies[all_dummies.train_test == 1].drop(['train_test'], axis =1)\n",
        "X_test_1 = all_dummies[all_dummies.train_test == 0].drop(['train_test'], axis =1)\n",
        "\n",
        "y_train_1 = all_data[all_data.train_test==1].Survived\n",
        "y_train_1.shape"
      ],
      "execution_count": null,
      "outputs": [
        {
          "output_type": "execute_result",
          "data": {
            "text/plain": [
              "(889,)"
            ]
          },
          "metadata": {
            "tags": []
          },
          "execution_count": 68
        }
      ]
    },
    {
      "cell_type": "markdown",
      "metadata": {
        "id": "TH15NTbZ9iX9"
      },
      "source": [
        "##Segmentación de los datos y última parte del pre-procesamiento\n",
        "\n",
        "Se segmentan los datos en 75-25,70-30 y 80-20 para el entrenemiento y la validación y se realiza la escalización para el conjunto de entrenamiento. Posteriormente, con los datos de test, se evaluan para subirlos a kaggle."
      ]
    },
    {
      "cell_type": "code",
      "metadata": {
        "id": "pudJmrvWq8Xb"
      },
      "source": [
        "from sklearn.preprocessing import StandardScaler\n",
        "from sklearn.model_selection import train_test_split\n",
        "\n",
        "X_train, X_test, y_train, y_test = train_test_split(X_train_1, y_train_1, random_state=0,test_size=0.3)\n",
        "\n",
        "\n",
        "scaler = StandardScaler()\n",
        "scaler.fit(X_train) #Se hace el fit de los datos de entrenamiento\n",
        "X_train = scaler.transform(X_train)\n",
        "X_test = scaler.transform(X_test)\n"
      ],
      "execution_count": 220,
      "outputs": []
    },
    {
      "cell_type": "code",
      "metadata": {
        "id": "cHOyKUAP_YRo",
        "outputId": "783d1065-bf2f-41f3-a6ed-4f08a83a23cb",
        "colab": {
          "base_uri": "https://localhost:8080/",
          "height": 0
        }
      },
      "source": [
        "X_train.shape"
      ],
      "execution_count": 221,
      "outputs": [
        {
          "output_type": "execute_result",
          "data": {
            "text/plain": [
              "(622, 30)"
            ]
          },
          "metadata": {
            "tags": []
          },
          "execution_count": 221
        }
      ]
    },
    {
      "cell_type": "code",
      "metadata": {
        "id": "XOwRM3ZD_qtK",
        "outputId": "f5f294db-fce8-45ba-e590-f959a554a179",
        "colab": {
          "base_uri": "https://localhost:8080/",
          "height": 0
        }
      },
      "source": [
        "X_test.shape"
      ],
      "execution_count": 222,
      "outputs": [
        {
          "output_type": "execute_result",
          "data": {
            "text/plain": [
              "(267, 30)"
            ]
          },
          "metadata": {
            "tags": []
          },
          "execution_count": 222
        }
      ]
    },
    {
      "cell_type": "code",
      "metadata": {
        "id": "BLSh9FK7_z7Z",
        "outputId": "6d13683d-fa11-4a2a-b147-8583631b69fd",
        "colab": {
          "base_uri": "https://localhost:8080/",
          "height": 0
        }
      },
      "source": [
        "y_train.shape"
      ],
      "execution_count": 223,
      "outputs": [
        {
          "output_type": "execute_result",
          "data": {
            "text/plain": [
              "(622,)"
            ]
          },
          "metadata": {
            "tags": []
          },
          "execution_count": 223
        }
      ]
    },
    {
      "cell_type": "code",
      "metadata": {
        "id": "La-QYZgx_1sR",
        "outputId": "345c24e5-6b68-4fae-fe24-4c937958f2fe",
        "colab": {
          "base_uri": "https://localhost:8080/",
          "height": 0
        }
      },
      "source": [
        "y_test.shape"
      ],
      "execution_count": 224,
      "outputs": [
        {
          "output_type": "execute_result",
          "data": {
            "text/plain": [
              "(267,)"
            ]
          },
          "metadata": {
            "tags": []
          },
          "execution_count": 224
        }
      ]
    },
    {
      "cell_type": "markdown",
      "metadata": {
        "id": "a_7G5_nQ_4qc"
      },
      "source": [
        "# Selección del clasificador e hiperparametros\n",
        "Con los datos segmentados, se ha escogido el clasificador de máquina de soporte vectorial (SVM).\n",
        "\n",
        "Los hiperparámetros que se pueden cambiar son C y el valor de gamma. Se encuentra en algunas fuentes que\n",
        "\n",
        "0.0001 < gamma < 10 y que 0.1 < c < 100\n",
        "\n",
        "y de acuerdo al valor de estos de da mayor overfitting, cuando se aumenta gamma y el margen de la clasificación se vuelve más pequeño con c aumentando."
      ]
    },
    {
      "cell_type": "code",
      "metadata": {
        "id": "UsLSgxas_2vZ",
        "outputId": "8bdaf2b5-6255-4c13-a6be-8bf1149f2bc1",
        "colab": {
          "base_uri": "https://localhost:8080/"
        }
      },
      "source": [
        "from sklearn import svm\n",
        "\n",
        "msv = svm.SVC(C=500,kernel='rbf',gamma=10)\n",
        "\n",
        "msv.fit(X_train, y_train)"
      ],
      "execution_count": null,
      "outputs": [
        {
          "output_type": "execute_result",
          "data": {
            "text/plain": [
              "SVC(C=500, break_ties=False, cache_size=200, class_weight=None, coef0=0.0,\n",
              "    decision_function_shape='ovr', degree=3, gamma=10, kernel='rbf',\n",
              "    max_iter=-1, probability=False, random_state=None, shrinking=True,\n",
              "    tol=0.001, verbose=False)"
            ]
          },
          "metadata": {
            "tags": []
          },
          "execution_count": 124
        }
      ]
    },
    {
      "cell_type": "code",
      "metadata": {
        "id": "a1YKaCDsLGtm",
        "outputId": "0cb341fc-a803-4837-d6a3-ffdb704d3842",
        "colab": {
          "base_uri": "https://localhost:8080/"
        }
      },
      "source": [
        "msv0 = svm.SVC(C=50,kernel='rbf', gamma=5)\n",
        "msv0.fit(X_train,y_train)"
      ],
      "execution_count": null,
      "outputs": [
        {
          "output_type": "execute_result",
          "data": {
            "text/plain": [
              "SVC(C=50, break_ties=False, cache_size=200, class_weight=None, coef0=0.0,\n",
              "    decision_function_shape='ovr', degree=3, gamma=5, kernel='rbf', max_iter=-1,\n",
              "    probability=False, random_state=None, shrinking=True, tol=0.001,\n",
              "    verbose=False)"
            ]
          },
          "metadata": {
            "tags": []
          },
          "execution_count": 125
        }
      ]
    },
    {
      "cell_type": "code",
      "metadata": {
        "id": "TzYXWE3AKhBx",
        "outputId": "a9d7b893-9359-4cde-d6c5-75757d56f572",
        "colab": {
          "base_uri": "https://localhost:8080/"
        }
      },
      "source": [
        "msv1 = svm.SVC(C=100,kernel='rbf', gamma=5)\n",
        "msv1.fit(X_train,y_train)"
      ],
      "execution_count": null,
      "outputs": [
        {
          "output_type": "execute_result",
          "data": {
            "text/plain": [
              "SVC(C=100, break_ties=False, cache_size=200, class_weight=None, coef0=0.0,\n",
              "    decision_function_shape='ovr', degree=3, gamma=5, kernel='rbf', max_iter=-1,\n",
              "    probability=False, random_state=None, shrinking=True, tol=0.001,\n",
              "    verbose=False)"
            ]
          },
          "metadata": {
            "tags": []
          },
          "execution_count": 126
        }
      ]
    },
    {
      "cell_type": "markdown",
      "metadata": {
        "id": "m89FOXtULSNW"
      },
      "source": [
        "## Desempeño\n",
        "\n",
        "Al haber entrenado el modelo de svm, se hace el test o validación, y se obtienen las métricas de desempeño con los scores de f1, accuracy y MCC."
      ]
    },
    {
      "cell_type": "code",
      "metadata": {
        "id": "H2oCkTnqK_kB",
        "outputId": "cf067c99-9f5b-4803-83a4-fd1343e6bcd5",
        "colab": {
          "base_uri": "https://localhost:8080/",
          "height": 363
        }
      },
      "source": [
        "from sklearn.metrics import matthews_corrcoef\n",
        "from sklearn.metrics import f1_score\n",
        "from sklearn.metrics import accuracy_score\n",
        "from sklearn.metrics import roc_curve,roc_auc_score\n",
        "\n",
        "\n",
        "print(\"caso1:\")\n",
        "y_test_predicted = msv.predict(X_test)\n",
        "y_test_scores = msv.decision_function(X_test)\n",
        "MCC = matthews_corrcoef(y_test, y_test_predicted)\n",
        "f1 = f1_score(y_test, y_test_predicted)\n",
        "print(\"matthews_corrcoef\", MCC)\n",
        "print(\"f1\",f1)\n",
        "ACC = accuracy_score(y_test, y_test_predicted)\n",
        "print(\"Accuracy\", ACC)\n",
        "\n",
        "fpr,tpr,thresholds = roc_curve(y_test, y_test_scores)\n",
        "roc_auc=roc_auc_score(y_test, y_test_scores)\n",
        "plt.figure()\n",
        "lw = 2\n",
        "plt.plot(fpr, tpr, color='darkorange',lw=lw, label='ROC curve (area = %0.2f)' % roc_auc)\n",
        "plt.plot([0, 1], [0, 1], color='navy', lw=lw, linestyle='--')\n",
        "plt.xlim([0.0, 1.0])\n",
        "plt.ylim([0.0, 1.05])\n",
        "plt.xlabel('False Positive Rate')\n",
        "plt.ylabel('True Positive Rate')\n",
        "plt.title('Receiver operating characteristic. ROC')\n",
        "plt.legend(loc=\"lower right\")\n",
        "plt.show()\n"
      ],
      "execution_count": 225,
      "outputs": [
        {
          "output_type": "stream",
          "text": [
            "caso1:\n",
            "matthews_corrcoef 0.3552587153228806\n",
            "f1 0.5\n",
            "Accuracy 0.6928838951310862\n"
          ],
          "name": "stdout"
        },
        {
          "output_type": "display_data",
          "data": {
            "image/png": "[encoded data removed]",
            "text/plain": [
              "<Figure size 432x288 with 1 Axes>"
            ]
          },
          "metadata": {
            "tags": []
          }
        }
      ]
    },
    {
      "cell_type": "code",
      "metadata": {
        "id": "83z8NDhijhzQ",
        "outputId": "0a9a6218-9d5e-48b9-ded5-e3f39e5aec7a",
        "colab": {
          "base_uri": "https://localhost:8080/",
          "height": 363
        }
      },
      "source": [
        "##Segundo caso con C=50 y gamma=5\n",
        "print(\"caso2:\")\n",
        "y_test_predicted0 = msv0.predict(X_test)\n",
        "y_test_scores0 = msv0.decision_function(X_test)\n",
        "MCC = matthews_corrcoef(y_test, y_test_predicted0)\n",
        "f1 = f1_score(y_test, y_test_predicted0)\n",
        "print(\"matthews_corrcoef\", MCC)\n",
        "print(\"f1\",f1)\n",
        "ACC = accuracy_score(y_test, y_test_predicted0)\n",
        "print(\"Accuracy\", ACC)\n",
        "\n",
        "fpr,tpr,thresholds = roc_curve(y_test, y_test_scores0)\n",
        "roc_auc=roc_auc_score(y_test, y_test_scores0)\n",
        "plt.figure()\n",
        "lw = 2\n",
        "plt.plot(fpr, tpr, color='darkorange',lw=lw, label='ROC curve (area = %0.2f)' % roc_auc)\n",
        "plt.plot([0, 1], [0, 1], color='navy', lw=lw, linestyle='--')\n",
        "plt.xlim([0.0, 1.0])\n",
        "plt.ylim([0.0, 1.05])\n",
        "plt.xlabel('False Positive Rate')\n",
        "plt.ylabel('True Positive Rate')\n",
        "plt.title('Receiver operating characteristic. ROC')\n",
        "plt.legend(loc=\"lower right\")\n",
        "plt.show()\n",
        "\n"
      ],
      "execution_count": 226,
      "outputs": [
        {
          "output_type": "stream",
          "text": [
            "caso2:\n",
            "matthews_corrcoef 0.4466521760577768\n",
            "f1 0.6785714285714286\n",
            "Accuracy 0.7303370786516854\n"
          ],
          "name": "stdout"
        },
        {
          "output_type": "display_data",
          "data": {
            "image/png": "[encoded data removed]",
            "text/plain": [
              "<Figure size 432x288 with 1 Axes>"
            ]
          },
          "metadata": {
            "tags": []
          }
        }
      ]
    },
    {
      "cell_type": "code",
      "metadata": {
        "id": "AkVEMzq0jlk2",
        "outputId": "b1e898d9-91c8-4224-b1c1-effe53058920",
        "colab": {
          "base_uri": "https://localhost:8080/",
          "height": 363
        }
      },
      "source": [
        "#Tercer caso con C=100 y gamma = 5\n",
        "print(\"caso3:\")\n",
        "y_test_predicted1 = msv1.predict(X_test)\n",
        "y_test_scores1 = msv1.decision_function(X_test)\n",
        "MCC = matthews_corrcoef(y_test, y_test_predicted1)\n",
        "f1 = f1_score(y_test, y_test_predicted1)\n",
        "print(\"matthews_corrcoef\", MCC)\n",
        "print(\"f1\",f1)\n",
        "ACC = accuracy_score(y_test, y_test_predicted1)\n",
        "print(\"Accuracy\", ACC)\n",
        "\n",
        "fpr,tpr,thresholds = roc_curve(y_test, y_test_scores1)\n",
        "roc_auc=roc_auc_score(y_test, y_test_scores1)\n",
        "plt.figure()\n",
        "lw = 2\n",
        "plt.plot(fpr, tpr, color='darkorange',lw=lw, label='ROC curve (area = %0.2f)' % roc_auc)\n",
        "plt.plot([0, 1], [0, 1], color='navy', lw=lw, linestyle='--')\n",
        "plt.xlim([0.0, 1.0])\n",
        "plt.ylim([0.0, 1.05])\n",
        "plt.xlabel('False Positive Rate')\n",
        "plt.ylabel('True Positive Rate')\n",
        "plt.title('Receiver operating characteristic. ROC')\n",
        "plt.legend(loc=\"lower right\")\n",
        "plt.show()"
      ],
      "execution_count": 227,
      "outputs": [
        {
          "output_type": "stream",
          "text": [
            "caso3:\n",
            "matthews_corrcoef 0.3494277580447848\n",
            "f1 0.5340909090909091\n",
            "Accuracy 0.6928838951310862\n"
          ],
          "name": "stdout"
        },
        {
          "output_type": "display_data",
          "data": {
            "image/png": "[encoded data removed]",
            "text/plain": [
              "<Figure size 432x288 with 1 Axes>"
            ]
          },
          "metadata": {
            "tags": []
          }
        }
      ]
    },
    {
      "cell_type": "markdown",
      "metadata": {
        "id": "g3lCWTKoRMQG"
      },
      "source": [
        "En cuanto a la pregunta de cuál metrica utilizar, la respuesta podría ser usar el f1, ya que este tiene en cuenta los falsos positivos y los falsos negativos. Dado esto, junto con el MCC, se puede observar que el clasificador obtuvo un resultado un poco regular, ya que se llega alrededor del 70% y el coeficiente de correlación de mathews es de alrededor de 0.5."
      ]
    },
    {
      "cell_type": "markdown",
      "metadata": {
        "id": "t0-xBy8rTvQI"
      },
      "source": [
        "#Conclusiones"
      ]
    },
    {
      "cell_type": "markdown",
      "metadata": {
        "id": "vXkPkXNZTz98"
      },
      "source": [
        "A partir del trabajo realizado, se encuentra que verificar cuáles son los datos del dataset y verificar su comportamiento es un paso supremamente importante antes de realizar los modelos.\n",
        "\n",
        "Se concluye que puede que algunos datos que no se utilizaron podrían haber cambiado el resultado del clasificador, asi mismo, algunos datos que se incluyeron pueden no haber contribuido con la clasificación como son los titulos asociados a las personas, ya que el resultado esperado, a partir de los resultados encontrados en internet, son al rededor del 80% de acierto, y el resultado que se obtuvo fue cercano al 70% en el mejor caso.\n",
        "\n",
        "Se encuentra que la segmentación también juega un papel importante a la hora de construir el clasificador, ya que se encuentran resultados distintos para cada uno, dando la segmentación de 70-30 el mejor resultado de las tres segmentaciones realizadas. \n"
      ]
    },
    {
      "cell_type": "markdown",
      "metadata": {
        "id": "WdPdfL0gWddA"
      },
      "source": [
        "#Resultados en Kaggle"
      ]
    },
    {
      "cell_type": "code",
      "metadata": {
        "id": "Q9RWZGVDVDXY",
        "outputId": "fc30c510-d840-41aa-81f5-422a7bb849c4",
        "colab": {
          "base_uri": "https://localhost:8080/"
        }
      },
      "source": [
        "y_test_1 = all_data[all_data.train_test==0].Survived\n",
        "y_test_1.shape"
      ],
      "execution_count": null,
      "outputs": [
        {
          "output_type": "execute_result",
          "data": {
            "text/plain": [
              "(418,)"
            ]
          },
          "metadata": {
            "tags": []
          },
          "execution_count": 130
        }
      ]
    },
    {
      "cell_type": "code",
      "metadata": {
        "id": "IaHhk5nEW9lN",
        "outputId": "db07ea21-8f77-44ba-ee54-99943ae9436d",
        "colab": {
          "base_uri": "https://localhost:8080/"
        }
      },
      "source": [
        "X_test_1.shape"
      ],
      "execution_count": null,
      "outputs": [
        {
          "output_type": "execute_result",
          "data": {
            "text/plain": [
              "(418, 30)"
            ]
          },
          "metadata": {
            "tags": []
          },
          "execution_count": 132
        }
      ]
    },
    {
      "cell_type": "code",
      "metadata": {
        "id": "_EhGyrKZYHnZ",
        "outputId": "ccf504f6-d0cb-40ea-86cf-5cc270bc13ec",
        "colab": {
          "base_uri": "https://localhost:8080/"
        }
      },
      "source": [
        "titanic_test.Fare = titanic_test.Fare.apply(lambda x: titanic_test.Fare.mean() if x==0 else x)\n",
        "X_test_1.info()"
      ],
      "execution_count": null,
      "outputs": [
        {
          "output_type": "stream",
          "text": [
            "<class 'pandas.core.frame.DataFrame'>\n",
            "Int64Index: 418 entries, 0 to 417\n",
            "Data columns (total 30 columns):\n",
            " #   Column                   Non-Null Count  Dtype  \n",
            "---  ------                   --------------  -----  \n",
            " 0   Age                      418 non-null    float64\n",
            " 1   SibSp                    418 non-null    int64  \n",
            " 2   Parch                    418 non-null    int64  \n",
            " 3   norm_fare                417 non-null    float64\n",
            " 4   Pclass_1                 418 non-null    uint8  \n",
            " 5   Pclass_2                 418 non-null    uint8  \n",
            " 6   Pclass_3                 418 non-null    uint8  \n",
            " 7   Sex_female               418 non-null    uint8  \n",
            " 8   Sex_male                 418 non-null    uint8  \n",
            " 9   Embarked_C               418 non-null    uint8  \n",
            " 10  Embarked_Q               418 non-null    uint8  \n",
            " 11  Embarked_S               418 non-null    uint8  \n",
            " 12  name_title_Capt          418 non-null    uint8  \n",
            " 13  name_title_Col           418 non-null    uint8  \n",
            " 14  name_title_Don           418 non-null    uint8  \n",
            " 15  name_title_Dona          418 non-null    uint8  \n",
            " 16  name_title_Dr            418 non-null    uint8  \n",
            " 17  name_title_Jonkheer      418 non-null    uint8  \n",
            " 18  name_title_Lady          418 non-null    uint8  \n",
            " 19  name_title_Major         418 non-null    uint8  \n",
            " 20  name_title_Master        418 non-null    uint8  \n",
            " 21  name_title_Miss          418 non-null    uint8  \n",
            " 22  name_title_Mlle          418 non-null    uint8  \n",
            " 23  name_title_Mme           418 non-null    uint8  \n",
            " 24  name_title_Mr            418 non-null    uint8  \n",
            " 25  name_title_Mrs           418 non-null    uint8  \n",
            " 26  name_title_Ms            418 non-null    uint8  \n",
            " 27  name_title_Rev           418 non-null    uint8  \n",
            " 28  name_title_Sir           418 non-null    uint8  \n",
            " 29  name_title_the Countess  418 non-null    uint8  \n",
            "dtypes: float64(2), int64(2), uint8(26)\n",
            "memory usage: 26.9 KB\n"
          ],
          "name": "stdout"
        }
      ]
    },
    {
      "cell_type": "code",
      "metadata": {
        "id": "W9rLdwjcXKAF",
        "outputId": "70ea7682-65c3-4d15-d395-3917a2bb9a81",
        "colab": {
          "base_uri": "https://localhost:8080/",
          "height": 324
        }
      },
      "source": [
        "y_predicted_kaggle = msv1.predict(X_test_1)"
      ],
      "execution_count": null,
      "outputs": [
        {
          "output_type": "error",
          "ename": "ValueError",
          "evalue": "ignored",
          "traceback": [
            "\u001b[0;31m---------------------------------------------------------------------------\u001b[0m",
            "\u001b[0;31mValueError\u001b[0m                                Traceback (most recent call last)",
            "\u001b[0;32m<ipython-input-170-2b5543346f8b>\u001b[0m in \u001b[0;36m<module>\u001b[0;34m()\u001b[0m\n\u001b[0;32m----> 1\u001b[0;31m \u001b[0my_predicted_kaggle\u001b[0m \u001b[0;34m=\u001b[0m \u001b[0mmsv1\u001b[0m\u001b[0;34m.\u001b[0m\u001b[0mpredict\u001b[0m\u001b[0;34m(\u001b[0m\u001b[0mX_test_1\u001b[0m\u001b[0;34m)\u001b[0m\u001b[0;34m\u001b[0m\u001b[0;34m\u001b[0m\u001b[0m\n\u001b[0m",
            "\u001b[0;32m/usr/local/lib/python3.6/dist-packages/sklearn/svm/_base.py\u001b[0m in \u001b[0;36mpredict\u001b[0;34m(self, X)\u001b[0m\n\u001b[1;32m    592\u001b[0m             \u001b[0my\u001b[0m \u001b[0;34m=\u001b[0m \u001b[0mnp\u001b[0m\u001b[0;34m.\u001b[0m\u001b[0margmax\u001b[0m\u001b[0;34m(\u001b[0m\u001b[0mself\u001b[0m\u001b[0;34m.\u001b[0m\u001b[0mdecision_function\u001b[0m\u001b[0;34m(\u001b[0m\u001b[0mX\u001b[0m\u001b[0;34m)\u001b[0m\u001b[0;34m,\u001b[0m \u001b[0maxis\u001b[0m\u001b[0;34m=\u001b[0m\u001b[0;36m1\u001b[0m\u001b[0;34m)\u001b[0m\u001b[0;34m\u001b[0m\u001b[0;34m\u001b[0m\u001b[0m\n\u001b[1;32m    593\u001b[0m         \u001b[0;32melse\u001b[0m\u001b[0;34m:\u001b[0m\u001b[0;34m\u001b[0m\u001b[0;34m\u001b[0m\u001b[0m\n\u001b[0;32m--> 594\u001b[0;31m             \u001b[0my\u001b[0m \u001b[0;34m=\u001b[0m \u001b[0msuper\u001b[0m\u001b[0;34m(\u001b[0m\u001b[0;34m)\u001b[0m\u001b[0;34m.\u001b[0m\u001b[0mpredict\u001b[0m\u001b[0;34m(\u001b[0m\u001b[0mX\u001b[0m\u001b[0;34m)\u001b[0m\u001b[0;34m\u001b[0m\u001b[0;34m\u001b[0m\u001b[0m\n\u001b[0m\u001b[1;32m    595\u001b[0m         \u001b[0;32mreturn\u001b[0m \u001b[0mself\u001b[0m\u001b[0;34m.\u001b[0m\u001b[0mclasses_\u001b[0m\u001b[0;34m.\u001b[0m\u001b[0mtake\u001b[0m\u001b[0;34m(\u001b[0m\u001b[0mnp\u001b[0m\u001b[0;34m.\u001b[0m\u001b[0masarray\u001b[0m\u001b[0;34m(\u001b[0m\u001b[0my\u001b[0m\u001b[0;34m,\u001b[0m \u001b[0mdtype\u001b[0m\u001b[0;34m=\u001b[0m\u001b[0mnp\u001b[0m\u001b[0;34m.\u001b[0m\u001b[0mintp\u001b[0m\u001b[0;34m)\u001b[0m\u001b[0;34m)\u001b[0m\u001b[0;34m\u001b[0m\u001b[0;34m\u001b[0m\u001b[0m\n\u001b[1;32m    596\u001b[0m \u001b[0;34m\u001b[0m\u001b[0m\n",
            "\u001b[0;32m/usr/local/lib/python3.6/dist-packages/sklearn/svm/_base.py\u001b[0m in \u001b[0;36mpredict\u001b[0;34m(self, X)\u001b[0m\n\u001b[1;32m    313\u001b[0m         \u001b[0my_pred\u001b[0m \u001b[0;34m:\u001b[0m \u001b[0marray\u001b[0m\u001b[0;34m,\u001b[0m \u001b[0mshape\u001b[0m \u001b[0;34m(\u001b[0m\u001b[0mn_samples\u001b[0m\u001b[0;34m,\u001b[0m\u001b[0;34m)\u001b[0m\u001b[0;34m\u001b[0m\u001b[0;34m\u001b[0m\u001b[0m\n\u001b[1;32m    314\u001b[0m         \"\"\"\n\u001b[0;32m--> 315\u001b[0;31m         \u001b[0mX\u001b[0m \u001b[0;34m=\u001b[0m \u001b[0mself\u001b[0m\u001b[0;34m.\u001b[0m\u001b[0m_validate_for_predict\u001b[0m\u001b[0;34m(\u001b[0m\u001b[0mX\u001b[0m\u001b[0;34m)\u001b[0m\u001b[0;34m\u001b[0m\u001b[0;34m\u001b[0m\u001b[0m\n\u001b[0m\u001b[1;32m    316\u001b[0m         \u001b[0mpredict\u001b[0m \u001b[0;34m=\u001b[0m \u001b[0mself\u001b[0m\u001b[0;34m.\u001b[0m\u001b[0m_sparse_predict\u001b[0m \u001b[0;32mif\u001b[0m \u001b[0mself\u001b[0m\u001b[0;34m.\u001b[0m\u001b[0m_sparse\u001b[0m \u001b[0;32melse\u001b[0m \u001b[0mself\u001b[0m\u001b[0;34m.\u001b[0m\u001b[0m_dense_predict\u001b[0m\u001b[0;34m\u001b[0m\u001b[0;34m\u001b[0m\u001b[0m\n\u001b[1;32m    317\u001b[0m         \u001b[0;32mreturn\u001b[0m \u001b[0mpredict\u001b[0m\u001b[0;34m(\u001b[0m\u001b[0mX\u001b[0m\u001b[0;34m)\u001b[0m\u001b[0;34m\u001b[0m\u001b[0;34m\u001b[0m\u001b[0m\n",
            "\u001b[0;32m/usr/local/lib/python3.6/dist-packages/sklearn/svm/_base.py\u001b[0m in \u001b[0;36m_validate_for_predict\u001b[0;34m(self, X)\u001b[0m\n\u001b[1;32m    445\u001b[0m \u001b[0;34m\u001b[0m\u001b[0m\n\u001b[1;32m    446\u001b[0m         X = check_array(X, accept_sparse='csr', dtype=np.float64, order=\"C\",\n\u001b[0;32m--> 447\u001b[0;31m                         accept_large_sparse=False)\n\u001b[0m\u001b[1;32m    448\u001b[0m         \u001b[0;32mif\u001b[0m \u001b[0mself\u001b[0m\u001b[0;34m.\u001b[0m\u001b[0m_sparse\u001b[0m \u001b[0;32mand\u001b[0m \u001b[0;32mnot\u001b[0m \u001b[0msp\u001b[0m\u001b[0;34m.\u001b[0m\u001b[0misspmatrix\u001b[0m\u001b[0;34m(\u001b[0m\u001b[0mX\u001b[0m\u001b[0;34m)\u001b[0m\u001b[0;34m:\u001b[0m\u001b[0;34m\u001b[0m\u001b[0;34m\u001b[0m\u001b[0m\n\u001b[1;32m    449\u001b[0m             \u001b[0mX\u001b[0m \u001b[0;34m=\u001b[0m \u001b[0msp\u001b[0m\u001b[0;34m.\u001b[0m\u001b[0mcsr_matrix\u001b[0m\u001b[0;34m(\u001b[0m\u001b[0mX\u001b[0m\u001b[0;34m)\u001b[0m\u001b[0;34m\u001b[0m\u001b[0;34m\u001b[0m\u001b[0m\n",
            "\u001b[0;32m/usr/local/lib/python3.6/dist-packages/sklearn/utils/validation.py\u001b[0m in \u001b[0;36mcheck_array\u001b[0;34m(array, accept_sparse, accept_large_sparse, dtype, order, copy, force_all_finite, ensure_2d, allow_nd, ensure_min_samples, ensure_min_features, warn_on_dtype, estimator)\u001b[0m\n\u001b[1;32m    576\u001b[0m         \u001b[0;32mif\u001b[0m \u001b[0mforce_all_finite\u001b[0m\u001b[0;34m:\u001b[0m\u001b[0;34m\u001b[0m\u001b[0;34m\u001b[0m\u001b[0m\n\u001b[1;32m    577\u001b[0m             _assert_all_finite(array,\n\u001b[0;32m--> 578\u001b[0;31m                                allow_nan=force_all_finite == 'allow-nan')\n\u001b[0m\u001b[1;32m    579\u001b[0m \u001b[0;34m\u001b[0m\u001b[0m\n\u001b[1;32m    580\u001b[0m     \u001b[0;32mif\u001b[0m \u001b[0mensure_min_samples\u001b[0m \u001b[0;34m>\u001b[0m \u001b[0;36m0\u001b[0m\u001b[0;34m:\u001b[0m\u001b[0;34m\u001b[0m\u001b[0;34m\u001b[0m\u001b[0m\n",
            "\u001b[0;32m/usr/local/lib/python3.6/dist-packages/sklearn/utils/validation.py\u001b[0m in \u001b[0;36m_assert_all_finite\u001b[0;34m(X, allow_nan, msg_dtype)\u001b[0m\n\u001b[1;32m     58\u001b[0m                     \u001b[0mmsg_err\u001b[0m\u001b[0;34m.\u001b[0m\u001b[0mformat\u001b[0m\u001b[0;34m\u001b[0m\u001b[0;34m\u001b[0m\u001b[0m\n\u001b[1;32m     59\u001b[0m                     (type_err,\n\u001b[0;32m---> 60\u001b[0;31m                      msg_dtype if msg_dtype is not None else X.dtype)\n\u001b[0m\u001b[1;32m     61\u001b[0m             )\n\u001b[1;32m     62\u001b[0m     \u001b[0;31m# for object dtype data, we only check for NaNs (GH-13254)\u001b[0m\u001b[0;34m\u001b[0m\u001b[0;34m\u001b[0m\u001b[0;34m\u001b[0m\u001b[0m\n",
            "\u001b[0;31mValueError\u001b[0m: Input contains NaN, infinity or a value too large for dtype('float64')."
          ]
        }
      ]
    },
    {
      "cell_type": "markdown",
      "metadata": {
        "id": "raTRAK9RfpKb"
      },
      "source": [
        "No se pudo obtener la clasificación para el conjunto de datos del archivo test.csv, debido a que hace falta un dato de la tarifa y existe un error al intentar completar el dato."
      ]
    },
    {
      "cell_type": "code",
      "metadata": {
        "id": "zp_s3DWmf1NY"
      },
      "source": [
        ""
      ],
      "execution_count": null,
      "outputs": []
    }
  ]
}